{
 "cells": [
  {
   "cell_type": "code",
   "execution_count": 3,
   "metadata": {},
   "outputs": [],
   "source": [
    "from Bio import Phylo\n",
    "import numpy as np\n",
    "import math\n",
    "import random\n",
    "from numpy.random import default_rng\n",
    "rng = default_rng() # random number generator"
   ]
  },
  {
   "cell_type": "code",
   "execution_count": 1,
   "metadata": {},
   "outputs": [],
   "source": [
    "# set up parameters \n",
    "u0 = 1e-6 # mutation rate of chromosome\n",
    "u1 = 1e-4 # mutation rate of gene locus\n",
    "a = 0.02 # gene gain rate \n",
    "b = 0.02 # gene loss rate \n",
    "n = 10 # number of initial copies, must be greater than 5 to push the program to run\n",
    "l = 20 # length of the gene sequence (AA)"
   ]
  },
  {
   "cell_type": "code",
   "execution_count": 7,
   "metadata": {
    "scrolled": true
   },
   "outputs": [
    {
     "data": {
      "image/png": "[encoded data removed]",
      "text/plain": [
       "<Figure size 432x288 with 1 Axes>"
      ]
     },
     "metadata": {
      "needs_background": "light"
     },
     "output_type": "display_data"
    }
   ],
   "source": [
    "tre = Phylo.read(\"Bb_genome_reduced.tree\", \"newick\") # genome tree of B.burgdorferi\n",
    "Phylo.draw(tre)"
   ]
  },
  {
   "cell_type": "code",
   "execution_count": 9,
   "metadata": {},
   "outputs": [
    {
     "name": "stdout",
     "output_type": "stream",
     "text": [
      "['94a', 'MM1', '118a', '72a', '80a', 'BOL29', 'BOL26', 'NE5248', 'NE5261', 'NE5267', 'Fr93-1', 'ZS7', 'PAbe', 'B31', '64b', '29805', 'N40', 'WI91-23', 'Sh-2-82', '156a', 'JD1']\n"
     ]
    }
   ],
   "source": [
    "# get taxa names\n",
    "terminal_clades = tre.get_terminals()\n",
    "tips = []\n",
    "for tip in terminal_clades:\n",
    "    tips.append(tip.name)\n",
    "print(tips)"
   ]
  },
  {
   "cell_type": "code",
   "execution_count": 212,
   "metadata": {},
   "outputs": [
    {
     "name": "stdout",
     "output_type": "stream",
     "text": [
      "{'94a': array([1147.7927, 6241.3991,  269.7875]), 'MM1': array([1147.7927, 6241.3991,  308.672 ]), '118a': array([1147.7927, 4247.8301, 1949.2208]), '72a': array([1147.7927, 4247.8301, 1369.6127]), '80a': array([1008.5381, 1623.92  , 1338.7139, 6292.5453]), 'BOL29': array([1.0085381e+03, 1.6239200e+03, 1.3387139e+03, 8.8052240e+02,\n",
      "       3.6192905e+03, 3.2536490e+03, 1.5747860e+02, 1.3284050e+02,\n",
      "       7.0984370e+02, 7.2323400e+01, 5.6230000e-01]), 'BOL26': array([1.0085381e+03, 1.6239200e+03, 1.3387139e+03, 8.8052240e+02,\n",
      "       3.6192905e+03, 3.2536490e+03, 1.5747860e+02, 1.3284050e+02,\n",
      "       7.0984370e+02, 7.2323400e+01, 5.6230000e-01]), 'NE5248': array([1008.5381, 1623.92  , 1338.7139,  880.5224, 3619.2905, 3253.649 ,\n",
      "        157.4786,  132.8405,  709.8437,   36.1346]), 'NE5261': array([1.0085381e+03, 1.6239200e+03, 1.3387139e+03, 8.8052240e+02,\n",
      "       3.6192905e+03, 3.2536490e+03, 1.5747860e+02, 1.3284050e+02,\n",
      "       3.6681620e+02, 5.6230000e-01]), 'NE5267': array([1.0085381e+03, 1.6239200e+03, 1.3387139e+03, 8.8052240e+02,\n",
      "       3.6192905e+03, 3.2536490e+03, 1.5747860e+02, 1.3284050e+02,\n",
      "       3.6681620e+02, 5.6230000e-01]), 'Fr93-1': array([1008.5381, 1623.92  , 1338.7139,  880.5224, 3619.2905, 3253.649 ,\n",
      "        157.4786, 1264.7753]), 'ZS7': array([1008.5381, 1623.92  , 1338.7139,  880.5224, 3619.2905, 3253.649 ,\n",
      "       1376.3725]), 'PAbe': array([1008.5381, 1623.92  , 1338.7139,  880.5224, 3619.2905, 1034.2066,\n",
      "       3082.1402,   97.6433]), 'B31': array([1008.5381, 1623.92  , 1338.7139,  880.5224, 3619.2905, 1034.2066,\n",
      "       3082.1402,    4.5846]), '64b': array([1008.5381, 1623.92  , 1338.7139,  880.5224, 3619.2905, 1034.2066,\n",
      "       3317.2794]), '29805': array([1008.5381, 1623.92  , 1338.7139,  880.5224, 2459.6972, 5460.2968]), 'N40': array([1008.5381, 1623.92  , 1338.7139,  880.5224, 2459.6972, 5510.9319]), 'WI91-23': array([1008.5381, 1623.92  , 6087.1687]), 'Sh-2-82': array([1008.5381, 1288.8114, 3167.604 , 2510.8224]), '156a': array([1008.5381, 1288.8114, 3167.604 , 2331.7277]), 'JD1': array([1008.5381, 1288.8114, 5524.3926])}\n"
     ]
    }
   ],
   "source": [
    "# get branch lengths from root to each leaf\n",
    "branch_lengths = {}\n",
    "for tip in tips:\n",
    "    path = tre.get_path(tip)\n",
    "    lengths = [clade.branch_length for clade in path]\n",
    "    lengths = np.asarray(lengths)/u0 # convert branch length to time\n",
    "    branch_lengths[tip] = lengths\n",
    "print(branch_lengths)"
   ]
  },
  {
   "cell_type": "code",
   "execution_count": 269,
   "metadata": {},
   "outputs": [],
   "source": [
    "def random_protein_sequence(l, n):\n",
    "    AA = ('A','R','N','D','C','E','Q','G','H','I','L','K','M','F','P','S','T','W','Y','V')\n",
    "    copies = []\n",
    "    seq = ''.join(np.random.choice(AA) for _ in range(l))\n",
    "    copies.extend([seq]*n)\n",
    "    return copies"
   ]
  },
  {
   "cell_type": "code",
   "execution_count": 217,
   "metadata": {},
   "outputs": [],
   "source": [
    "def mutation(genes, prob):\n",
    "    for i in range(len(genes)):\n",
    "        n_mut =  rng.poisson(prob) # determine how many sites to be mutated\n",
    "        if n_mut > 0:\n",
    "            seq = list(genes[i])\n",
    "            sites_mut = random.sample(range(l), n_mut) # choose the sites to mutate\n",
    "            for site in sites_mut: # mutate the sites one by one\n",
    "                AA = ['A','R','N','D','C','E','Q','G','H','I','L','K','M','F','P','S','T','W','Y','V']\n",
    "                ori = seq[site]\n",
    "                AA.remove(ori) # remove the original letter to avoid sampling the same one\n",
    "                seq[site] = np.random.choice(AA) # random substitution\n",
    "            genes[i] = ''.join(seq)\n",
    "    return(genes) "
   ]
  },
  {
   "cell_type": "code",
   "execution_count": 218,
   "metadata": {},
   "outputs": [],
   "source": [
    "def duplication(genes, prob):\n",
    "    n_gain = rng.poisson(prob) # determine how many copies to be duplicated\n",
    "    if n_gain > 0:\n",
    "        gene_gain = random.sample(genes, n_gain) # choose the copies to duplicate \n",
    "        genes = genes + gene_gain # add items to the gene set\n",
    "    return(genes)"
   ]
  },
  {
   "cell_type": "code",
   "execution_count": 219,
   "metadata": {},
   "outputs": [],
   "source": [
    "def deletion(genes, prob):\n",
    "    n_loss = rng.poisson(prob) # determine how many copies to be deleted\n",
    "    if n_loss > 0:\n",
    "        gene_loss = random.sample(genes, n_loss) # choose the copies to delete\n",
    "        for item in gene_loss: # remove items from the set one by one\n",
    "            genes.remove(item)\n",
    "    return(genes)"
   ]
  },
  {
   "cell_type": "code",
   "execution_count": 213,
   "metadata": {},
   "outputs": [],
   "source": [
    "def write_fasta(dictionary, filename):\n",
    "    import textwrap\n",
    "    with open(filename, \"w\") as outfile:\n",
    "        for key, value in dictionary.items():\n",
    "            outfile.write(\">\" + key + \"\\n\")\n",
    "            outfile.write(\"\\n\".join(textwrap.wrap(value, 60)))\n",
    "            outfile.write(\"\\n\")"
   ]
  },
  {
   "cell_type": "code",
   "execution_count": 19,
   "metadata": {
    "scrolled": true
   },
   "outputs": [
    {
     "ename": "NameError",
     "evalue": "name 'random_protein_sequence' is not defined",
     "output_type": "error",
     "traceback": [
      "\u001b[1;31m---------------------------------------------------------------------------\u001b[0m",
      "\u001b[1;31mNameError\u001b[0m                                 Traceback (most recent call last)",
      "\u001b[1;32m<ipython-input-19-6baafa267a19>\u001b[0m in \u001b[0;36m<module>\u001b[1;34m\u001b[0m\n\u001b[0;32m      1\u001b[0m \u001b[1;31m### Main simulator ###\u001b[0m\u001b[1;33m\u001b[0m\u001b[1;33m\u001b[0m\u001b[1;33m\u001b[0m\u001b[0m\n\u001b[0;32m      2\u001b[0m \u001b[1;31m# initiate the root gene set\u001b[0m\u001b[1;33m\u001b[0m\u001b[1;33m\u001b[0m\u001b[1;33m\u001b[0m\u001b[0m\n\u001b[1;32m----> 3\u001b[1;33m \u001b[0mgenes\u001b[0m \u001b[1;33m=\u001b[0m \u001b[0mrandom_protein_sequence\u001b[0m\u001b[1;33m(\u001b[0m\u001b[0ml\u001b[0m\u001b[1;33m,\u001b[0m \u001b[0mn\u001b[0m\u001b[1;33m)\u001b[0m\u001b[1;33m\u001b[0m\u001b[1;33m\u001b[0m\u001b[0m\n\u001b[0m\u001b[0;32m      4\u001b[0m \u001b[0msim\u001b[0m \u001b[1;33m=\u001b[0m \u001b[1;33m{\u001b[0m\u001b[1;33m}\u001b[0m\u001b[1;33m\u001b[0m\u001b[1;33m\u001b[0m\u001b[0m\n\u001b[0;32m      5\u001b[0m \u001b[1;33m\u001b[0m\u001b[0m\n",
      "\u001b[1;31mNameError\u001b[0m: name 'random_protein_sequence' is not defined"
     ]
    }
   ],
   "source": [
    "### Main simulator ###\n",
    "# initiate the root gene set \n",
    "genes = random_protein_sequence(l, n)\n",
    "sim = {}\n",
    "\n",
    "# tree_walking\n",
    "for taxon in tips: \n",
    "    for time in branch_lengths[taxon]: \n",
    "        p_mut = 1 - math.exp(-(u1*time)) # probability of mutation\n",
    "        p_gain = (a/(a+b))*(1-math.exp(-((a+b)*time))) # probability of gain\n",
    "        p_loss = 1 - p_gain # probability of loss\n",
    "\n",
    "        genes = mutation(genes, p_mut) \n",
    "        genes = duplication(genes, p_gain) \n",
    "        genes = deletion(genes, p_loss)\n",
    "        \n",
    "        for i in range(len(genes)):\n",
    "            sim[\"%s_%i\" %(taxon, (i+1))] = genes[i]\n",
    "            \n",
    "print(\"Simulation is done!\")    \n",
    "\n",
    "# export simulated sequences to a fasta file\n",
    "write_fasta(sim, \"bb_vls_sim.fas\")\n",
    "print(\"Success! File written\") \n"
   ]
  },
  {
   "cell_type": "code",
   "execution_count": 18,
   "metadata": {},
   "outputs": [
    {
     "data": {
      "text/plain": [
       "6"
      ]
     },
     "execution_count": 18,
     "metadata": {},
     "output_type": "execute_result"
    }
   ],
   "source": []
  },
  {
   "cell_type": "code",
   "execution_count": null,
   "metadata": {},
   "outputs": [],
   "source": []
  },
  {
   "cell_type": "code",
   "execution_count": null,
   "metadata": {},
   "outputs": [],
   "source": []
  }
 ],
 "metadata": {
  "kernelspec": {
   "display_name": "Python 3",
   "language": "python",
   "name": "python3"
  },
  "language_info": {
   "codemirror_mode": {
    "name": "ipython",
    "version": 3
   },
   "file_extension": ".py",
   "mimetype": "text/x-python",
   "name": "python",
   "nbconvert_exporter": "python",
   "pygments_lexer": "ipython3",
   "version": "3.7.6"
  }
 },
 "nbformat": 4,
 "nbformat_minor": 4
}
